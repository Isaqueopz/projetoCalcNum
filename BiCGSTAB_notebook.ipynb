{
 "cells": [
  {
   "cell_type": "markdown",
   "id": "26f0a42f",
   "metadata": {},
   "source": [
    "# Método BiCGSTAB (Bi-Conjugate Gradient Stabilized)\n",
    "Cálculo Numérico - Sistemas Lineares\n",
    "\n",
    "Alunos: Lara Hadasssa, Luiz Carlos, Rafael Nakayama"
   ]
  },
  {
   "cell_type": "markdown",
   "id": "b0c280bf",
   "metadata": {},
   "source": [
    "\n",
    "## Introdução\n",
    "O método **BiCGSTAB (Bi-Conjugate Gradient Stabilized)** é um método iterativo usado para resolver sistemas lineares da forma:\n",
    "\n",
    "\\[Ax = b\\]\n",
    "\n",
    "Ele é indicado principalmente quando a matriz `A` é **grande, esparsa e não simétrica**.\n",
    "\n",
    "- **Família**: métodos de Krylov.\n",
    "- **Tipo**: iterativo.\n",
    "- **Objetivo**: obter aproximação para `x` sem necessidade de fatorar a matriz.\n"
   ]
  },
  {
   "cell_type": "markdown",
   "id": "9e1fa673",
   "metadata": {},
   "source": [
    "\n",
    "## Estrutura\n",
    "1. **Nome do método**: BiCGSTAB  \n",
    "2. **Ideia central**: baseia-se no método Bi-Conjugate Gradient, mas com estabilização para melhorar a convergência.  \n",
    "3. **Entrada**: matriz `A`, vetor `b`, chute inicial `x0`, tolerância `ε`, número máximo de iterações.  \n",
    "4. **Saída**: solução aproximada `x`, resíduo, número de iterações.  \n"
   ]
  },
  {
   "cell_type": "code",
   "execution_count": 1,
   "id": "082544a2",
   "metadata": {},
   "outputs": [
    {
     "name": "stdout",
     "output_type": "stream",
     "text": [
      "Solução aproximada: [0.09090909 0.63636364]\n",
      "Info: 0\n"
     ]
    }
   ],
   "source": [
    "\n",
    "import numpy as np\n",
    "from scipy.sparse.linalg import bicgstab\n",
    "\n",
    "# Definindo matriz e vetor\n",
    "A = np.array([[4, 1],\n",
    "              [1, 3]])\n",
    "b = np.array([1, 2])\n",
    "\n",
    "# Resolvendo com BiCGSTAB\n",
    "x, info = bicgstab(A, b)\n",
    "\n",
    "print(\"Solução aproximada:\", x)\n",
    "print(\"Info:\", info)  # 0 = sucesso\n"
   ]
  },
  {
   "cell_type": "code",
   "execution_count": 2,
   "id": "50deaaec",
   "metadata": {},
   "outputs": [
    {
     "name": "stdout",
     "output_type": "stream",
     "text": [
      "Convergiu na iteração 2\n",
      "Solução customizada: [0.09090909 0.63636364]\n"
     ]
    }
   ],
   "source": [
    "\n",
    "def bicgstab_custom(A, b, x0=None, tol=1e-8, max_iter=1000):\n",
    "    n = len(b)\n",
    "    if x0 is None:\n",
    "        x = np.zeros(n)\n",
    "    else:\n",
    "        x = x0\n",
    "    \n",
    "    r = b - A @ x\n",
    "    r_hat = r.copy()\n",
    "    rho_old = alpha = omega = 1.0\n",
    "    v = p = np.zeros(n)\n",
    "\n",
    "    for k in range(1, max_iter+1):\n",
    "        rho_new = np.dot(r_hat, r)\n",
    "        if rho_new == 0:\n",
    "            break\n",
    "        if k == 1:\n",
    "            p = r\n",
    "        else:\n",
    "            beta = (rho_new/rho_old) * (alpha/omega)\n",
    "            p = r + beta * (p - omega * v)\n",
    "        v = A @ p\n",
    "        alpha = rho_new / np.dot(r_hat, v)\n",
    "        s = r - alpha * v\n",
    "        if np.linalg.norm(s) < tol:\n",
    "            x += alpha * p\n",
    "            print(f\"Convergiu na iteração {k}\")\n",
    "            return x\n",
    "        t = A @ s\n",
    "        omega = np.dot(t, s) / np.dot(t, t)\n",
    "        x += alpha * p + omega * s\n",
    "        r = s - omega * t\n",
    "        if np.linalg.norm(r) < tol:\n",
    "            print(f\"Convergiu na iteração {k}\")\n",
    "            return x\n",
    "        rho_old = rho_new\n",
    "    print(\"Não convergiu\")\n",
    "    return x\n",
    "\n",
    "# Testando a implementação\n",
    "A = np.array([[4, 1],\n",
    "              [1, 3]])\n",
    "b = np.array([1, 2])\n",
    "\n",
    "x_custom = bicgstab_custom(A, b)\n",
    "print(\"Solução customizada:\", x_custom)\n"
   ]
  },
  {
   "cell_type": "markdown",
   "id": "d3c9425b",
   "metadata": {},
   "source": [
    "\n",
    "## Características\n",
    "- **Tipo**: Iterativo (família de Krylov).\n",
    "- **Requisitos da matriz**:\n",
    "  - Funciona para matrizes **não simétricas**.\n",
    "  - Não exige ser definida positiva.\n",
    "  - Pode ser usado com **pré-condicionadores**.\n"
   ]
  },
  {
   "cell_type": "markdown",
   "id": "2c25b486",
   "metadata": {},
   "source": [
    "\n",
    "## Possíveis Problemas\n",
    "1. Pode falhar para matrizes muito mal-condicionadas.\n",
    "2. Em alguns casos não converge (ou converge muito lentamente).\n",
    "3. É sensível à escolha de pré-condicionadores.\n"
   ]
  },
  {
   "cell_type": "markdown",
   "id": "e84f79b3",
   "metadata": {},
   "source": [
    "\n",
    "## Qualidades\n",
    "- **Vantagens**:\n",
    "  - Mais estável que BiCG.\n",
    "  - Adequado para sistemas grandes e esparsos.\n",
    "- **Melhor escolha quando**:\n",
    "  - A matriz não é simétrica definida positiva (quando CG não serve).\n",
    "  - O problema é muito grande para métodos diretos (LU, Cholesky).\n"
   ]
  }
 ],
 "metadata": {
  "kernelspec": {
   "display_name": "Python 3",
   "language": "python",
   "name": "python3"
  },
  "language_info": {
   "codemirror_mode": {
    "name": "ipython",
    "version": 3
   },
   "file_extension": ".py",
   "mimetype": "text/x-python",
   "name": "python",
   "nbconvert_exporter": "python",
   "pygments_lexer": "ipython3",
   "version": "3.13.5"
  }
 },
 "nbformat": 4,
 "nbformat_minor": 5
}
