{
 "cells": [
  {
   "cell_type": "markdown",
   "id": "ee5f3a35",
   "metadata": {},
   "source": [
    "# Método Jacobi\n",
    "\n",
    "**Alunos:** Kayky Gabriel, Luiz Henrique e Isaque Misael   \n",
    "\n",
    "---"
   ]
  },
  {
   "cell_type": "markdown",
   "id": "1e57f5d1",
   "metadata": {},
   "source": [
    "### Ideia Central:\n",
    "\n",
    "- Resolver sistemas lineares \n",
    "𝐴\n",
    "𝑥\n",
    "=\n",
    "𝑏\n",
    " de forma iterativa, aproximando a solução a cada iteração.\n",
    "Em vez de resolver diretamente, cada variável é calculada isoladamente a partir da iteração anterior.\n",
    "\n",
    "\n",
    "- Fórmula:\n",
    "\n",
    "$$\n",
    "x_i^{(k+1)} = \\frac{1}{a_{ii}} \\left( b_i - \\sum_{j \\neq i} a_{ij}x_j^{(k)} \\right)\n",
    "$$\n",
    "\n",
    "\n",
    "-----\n",
    "\n",
    "\n",
    "\n"
   ]
  },
  {
   "cell_type": "markdown",
   "id": "dc01afa5",
   "metadata": {},
   "source": [
    "### Entrada e Saída\n",
    "\n",
    "- **Entrada:** Matriz dos coeficientes $A$, vetor dos termos independentes $b$, chute inicial $x^{(0)}$, número máximo de iterações e tolerância de erro.\n",
    "- **Saída:** Aproximação do vetor solução $x$.\n",
    "\n",
    "\n",
    "-------\n"
   ]
  },
  {
   "cell_type": "markdown",
   "id": "d47705c6",
   "metadata": {},
   "source": [
    "### Código:\n",
    "\n",
    "**1º** - Usando funções de bibliotecas ( ex: numpy,spicy);\n",
    "\n",
    "**Biblioteca Usada**: Numpy"
   ]
  },
  {
   "cell_type": "code",
   "execution_count": null,
   "id": "1d7970fa",
   "metadata": {},
   "outputs": [
    {
     "name": "stdout",
     "output_type": "stream",
     "text": [
      "Convergência alcançada na iteração 15.\n",
      "\n",
      "Vetor Solução (x): [ 0.99999989 -2.00000013  0.99999984]\n",
      "Verificação (A*x): [ 6.9999985  -8.00000092  5.99999782]\n"
     ]
    }
   ],
   "source": [
    "import numpy as np\n",
    "\n",
    "def metodo_jacobi(A, b, x0=None, tol=1e-5, max_iteracoes=100):\n",
    "    \"\"\"\n",
    "    Resolve o sistema linear Ax = b usando o Método de Jacobi.\n",
    "\n",
    "    Argumentos:\n",
    "    A (np.array): Matriz de coeficientes.\n",
    "    b (np.array): Vetor de termos independentes.\n",
    "    x0 (np.array): Chute inicial (opcional). Se None, será um vetor de zeros.\n",
    "    tol (float): Tolerância para o critério de parada.\n",
    "    max_iteracoes (int): Número máximo de iterações.\n",
    "\n",
    "    Retorna:\n",
    "    x (np.array): Vetor solução aproximado.\n",
    "    ou None se o método não convergir.\n",
    "    \"\"\"\n",
    "    # 1. Obter as dimensões da matriz A\n",
    "    n = A.shape[0]\n",
    "\n",
    "    # 2. Inicializar o vetor solução 'x'\n",
    "    # Se um chute inicial 'x0' não for fornecido, começamos com um vetor de zeros.\n",
    "    if x0 is None:\n",
    "        x = np.zeros(n)\n",
    "    else:\n",
    "        x = x0.copy()\n",
    "        \n",
    "    # 'x_novo' armazenará os valores da próxima iteração\n",
    "    x_novo = np.zeros(n)\n",
    "\n",
    "    # 3. Loop de iterações\n",
    "    for k in range(max_iteracoes):\n",
    "        # 4. Calcular cada componente de 'x_novo'\n",
    "        for i in range(n):\n",
    "            # Somatório dos a_ij * x_j da iteração anterior\n",
    "            soma_ax = np.dot(A[i, :i], x[:i]) + np.dot(A[i, i+1:], x[i+1:])\n",
    "            \n",
    "            # Fórmula de Jacobi\n",
    "            x_novo[i] = (b[i] - soma_ax) / A[i, i]\n",
    "\n",
    "        # 5. Critério de parada: verificar a tolerância\n",
    "        # Usamos a norma do vetor diferença. Se for pequena o suficiente, a solução convergiu.\n",
    "        erro = np.linalg.norm(x_novo - x)\n",
    "        if erro < tol:\n",
    "            print(f\"Convergência alcançada na iteração {k+1}.\")\n",
    "            return x_novo\n",
    "\n",
    "        # 6. Atualizar o vetor solução para a próxima iteração\n",
    "        x = x_novo.copy()\n",
    "\n",
    "    print(f\"O método não convergiu após {max_iteracoes} iterações.\")\n",
    "    return None\n"
   ]
  },
  {
   "cell_type": "markdown",
   "id": "68c6293c",
   "metadata": {},
   "source": [
    "**2º** - Implementar o código (discutindo-o)."
   ]
  },
  {
   "cell_type": "code",
   "execution_count": 7,
   "id": "9b9493c3",
   "metadata": {},
   "outputs": [
    {
     "name": "stdout",
     "output_type": "stream",
     "text": [
      "Convergência alcançada na iteração 15.\n",
      "\n",
      "Vetor Solução (x): [ 0.99999989 -2.00000013  0.99999984]\n",
      "Verificação (A*x): [ 6.9999985  -8.00000092  5.99999782]\n"
     ]
    }
   ],
   "source": [
    "# --- Exemplo de Uso ---\n",
    "# Sistema:\n",
    "# 10x + 2y +  z = 7\n",
    "#  x + 5y +  z = -8\n",
    "# 2x + 3y + 10z = 6\n",
    "\n",
    "A = np.array([[10, 2, 1],\n",
    "              [1, 5, 1],\n",
    "              [2, 3, 10]], dtype=float)\n",
    "\n",
    "b = np.array([7, -8, 6], dtype=float)\n",
    "\n",
    "# Resolvendo o sistema\n",
    "solucao = metodo_jacobi(A, b, tol=1e-6)\n",
    "\n",
    "if solucao is not None:\n",
    "    print(\"\\nVetor Solução (x):\", solucao)\n",
    "    # Verificação: A * x deve ser aproximadamente igual a b\n",
    "    print(\"Verificação (A*x):\", np.dot(A, solucao))"
   ]
  },
  {
   "cell_type": "markdown",
   "id": "5d6af817",
   "metadata": {},
   "source": [
    "---------\n"
   ]
  },
  {
   "cell_type": "markdown",
   "id": "5da7b7d9",
   "metadata": {},
   "source": [
    "### Caracteristicas:\n",
    "\n",
    "**Tipo de método**: Iterativo.\n",
    "\n",
    "Aproxima a solução progressivamente até atingir a tolerância.\n",
    "\n",
    "**Requisitos** (condições para convergência): A matriz 𝐴 deve ser diagonalmente dominante ou simétrica definida positiva para garantir a convergência.\n",
    "\n",
    "Caso contrário, pode não convergir.\n"
   ]
  },
  {
   "cell_type": "markdown",
   "id": "1c06a2d5",
   "metadata": {},
   "source": [
    "----------\n"
   ]
  },
  {
   "cell_type": "markdown",
   "id": "fbd7b6d0",
   "metadata": {},
   "source": [
    "### Possiveis Problemas:\n",
    "\n",
    "**Quando falha**: Quando a matriz A não satisfaz as condições de convergência (ex.: não é diagonalmente dominante).\n",
    "\n",
    "Pode divergir ou demorar muito para convergir.\n",
    "\n",
    "**Eficiência**: Geralmente menos eficiente que métodos diretos (ex.: eliminação de Gauss) para sistemas pequenos.\n",
    "\n",
    "Mas pode ser vantajoso em matrizes muito grandes e esparsas."
   ]
  },
  {
   "cell_type": "markdown",
   "id": "0d10e141",
   "metadata": {},
   "source": [
    "-------------"
   ]
  },
  {
   "cell_type": "markdown",
   "id": "af42aaf0",
   "metadata": {},
   "source": [
    "### Qualidades:\n",
    "\n",
    "#### Vantagens\n",
    "\n",
    "\n",
    "**1º** - Fácil de implementar.\n",
    "\n",
    "**2º** - Bom para matrizes grandes e esparsas.\n",
    "\n",
    "**3º** - Paralelizável (cada variável pode ser atualizada de forma independente).\n",
    "\n",
    "\n",
    "#### Quando é a melhor escolha ?\n",
    "\n",
    "**1º** - Quando A é esparsa, diagonalmente dominante ou simétrica definida positiva.\n",
    "\n",
    "**2º** - Útil em problemas de engenharia e simulações numéricas com grandes sistemas"
   ]
  },
  {
   "cell_type": "markdown",
   "id": "7b7446e5",
   "metadata": {},
   "source": [
    "---------"
   ]
  }
 ],
 "metadata": {
  "kernelspec": {
   "display_name": "Python 3",
   "language": "python",
   "name": "python3"
  },
  "language_info": {
   "codemirror_mode": {
    "name": "ipython",
    "version": 3
   },
   "file_extension": ".py",
   "mimetype": "text/x-python",
   "name": "python",
   "nbconvert_exporter": "python",
   "pygments_lexer": "ipython3",
   "version": "3.11.9"
  }
 },
 "nbformat": 4,
 "nbformat_minor": 5
}
