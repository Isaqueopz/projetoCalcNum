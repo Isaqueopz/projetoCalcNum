{
  "cells": [
    {
      "cell_type": "markdown",
      "metadata": {
        "id": "fE8AYwVHqolm"
      },
      "source": [
        "## Método da Sobrerrelaxação Sucessiva (SOR)\n",
        "\n",
        "- Grupo: Lorran Bezerra Soares e Rafael Sodré Paschoal\n",
        "\n",
        "# Discussão inicial:\n",
        "Este método é uma variação do método de Gauss-Seidel para resolver sistemas de equações lineares. Ele visa acelerar a convergência da solução, introduzindo um parâmetro de relaxamento chamado ômega ($\\omega$). A ideia é usar uma combinação ponderada da iteração anterior e da iteração de Gauss-Seidel para obter uma nova estimativa da solução a cada passo.\n",
        "\n",
        "# Conceito chave:\n",
        "O foco do método SOR é resolver iterativamente o sistema $A . x = b$. Partindo de uma estimativa inicial para $x$, o método atualiza cada componente do vetor $x$ sequencialmente, utilizando os valores mais recentes disponíveis das outras componentes. O fator de relaxamento $\\omega$ controla o quanto a nova estimativa é influenciada pela atualização de Gauss-Seidel. Se $\\omega = 1$, o método SOR se reduz ao método de Gauss-Seidel. Valores de $\\omega$ entre 1 e 2 (sobrerrelaxação) podem acelerar a convergência, enquanto valores entre 0 e 1 (sub-relaxação) podem ajudar na convergência de sistemas que, de outra forma, divergiriam.\n",
        "\n",
        "# Resumo Teórico\n",
        "O método da Sobrerrelaxação Sucessiva (SOR) é uma técnica iterativa para resolver sistemas lineares da forma $Ax = b$. A equação de iteração para cada componente $x_i$ na $(k+1)$-ésima iteração é dada por:\n",
        "\n",
        "$$\n",
        "x_i^{(k+1)} = (1 - \\omega)x_i^{(k)} + \\frac{\\omega}{a_{ii}} \\left(b_i - \\sum_{j<i} a_{ij}x_j^{(k+1)} - \\sum_{j>i} a_{ij}x_j^{(k)}\\right)\n",
        "$$\n",
        "\n",
        "onde $\\omega$ é o fator de relaxamento.\n",
        "\n",
        "Para garantir a convergência, a matriz $A$ deve ser estritamente diagonalmente dominante ou simétrica e definida positiva, e o parâmetro de relaxação $\\omega$ deve estar no intervalo $(0, 2)$. A escolha ótima de $\\omega$ depende das propriedades da matriz $A$ e pode acelerar significativamente a taxa de convergência."
      ]
    },
    {
      "cell_type": "code",
      "execution_count": null,
      "metadata": {
        "id": "T6so9VN5qnLO"
      },
      "outputs": [],
      "source": [
        "import numpy as np\n",
        "\n",
        "def sor(A, b, x_init, omega, max_iter, tolerancia):\n",
        "    \"\"\"\n",
        "    Implementação do método SOR (Successive Over-Relaxation) para resolver sistemas lineares Ax = b.\n",
        "\n",
        "    Parâmetros:\n",
        "    -----------\n",
        "    A : Matriz quadrada dos coeficientes (n x n).\n",
        "    b : Vetor do lado direito do sistema (n).\n",
        "    x_init : Vetor inicial (chute inicial para a solução).\n",
        "    omega : Fator de relaxação (0 < omega < 2).\n",
        "    max_iter : Número máximo de iterações permitidas.\n",
        "    tolerancia : Critério de parada baseado na norma infinito da diferença entre duas iterações consecutivas.\n",
        "\n",
        "    Retorna:\n",
        "    --------\n",
        "    x : Vetor solução aproximada do sistema Ax = b.\n",
        "    \"\"\"\n",
        "\n",
        "    n = len(b)\n",
        "    x = x_init.copy()  # inicializa o vetor solução com o chute inicial\n",
        "\n",
        "    for i in range(max_iter):\n",
        "        x_antigo = x.copy()  # preserva o vetor da iteração anterior para cálculo do erro\n",
        "\n",
        "        # Atualiza cada componente do vetor x sequencialmente\n",
        "        for j in range(n):\n",
        "            # Soma dos valores já atualizados nesta iteração\n",
        "            soma_1 = np.dot(A[j, :j], x[:j])\n",
        "            # Soma dos valores que ainda não foram atualizadas\n",
        "            soma_2 = np.dot(A[j, j + 1:], x_antigo[j + 1:])\n",
        "\n",
        "            # fórmula de atualização do SOR\n",
        "            x[j] = (1 - omega) * x_antigo[j] + (omega / A[j, j]) * (b[j] - soma_1 - soma_2)\n",
        "\n",
        "        # Verificação do critério de parada:\n",
        "        # se a diferença máxima entre x e x_antigo for menor que a tolerância, o método para\n",
        "        if np.linalg.norm(x - x_antigo, ord=np.inf) < tolerancia:\n",
        "            break\n",
        "\n",
        "    return x\n"
      ]
    },
    {
      "cell_type": "code",
      "execution_count": 6,
      "metadata": {
        "id": "fOmq4aj9qtZ2"
      },
      "outputs": [
        {
          "name": "stdout",
          "output_type": "stream",
          "text": [
            "A solução encontrada é: [1.00000004 0.99999998 1.00000001]\n",
            "Verificação (A @ solucao): [2.00000017 1.99999986 2.00000003]\n",
            "Vetor b original: [2. 2. 2.]\n"
          ]
        }
      ],
      "source": [
        "# Definindo a matriz A (diagonalmente dominante)\n",
        "A = np.array([[4, -1, -1],\n",
        "              [-1, 4, -1],\n",
        "              [-1, -1, 4]], dtype=float)\n",
        "\n",
        "# Definindo o vetor b\n",
        "b = np.array([2, 2, 2], dtype=float)\n",
        "\n",
        "# Definindo um chute inicial (pode ser um vetor de zeros)\n",
        "x_init = np.array([0, 0, 0], dtype=float)\n",
        "\n",
        "# Fator de relaxamento\n",
        "omega = 1.1\n",
        "\n",
        "# Definindo o número máximo de iterações\n",
        "max_iter = 100\n",
        "\n",
        "# Definindo a tolerância\n",
        "tolerancia = 1e-6\n",
        "\n",
        "# Chamando a função sor com os valores de teste\n",
        "solucao = sor(A, b, x_init, omega, max_iter, tolerancia)\n",
        "\n",
        "# Exibindo a solução encontrada\n",
        "print(\"A solução encontrada é:\", solucao)\n",
        "\n",
        "# Para verificar, podemos calcular A @ solucao e ver se é próximo de b\n",
        "print(\"Verificação (A @ solucao):\", A @ solucao)\n",
        "print(\"Vetor b original:\", b)"
      ]
    },
    {
      "cell_type": "markdown",
      "metadata": {
        "id": "PzO5a4nmt0Bb"
      },
      "source": [
        "# Descrição:\n",
        "\n",
        "1. Descrição geral: \\\n",
        "Este método iterativo é uma extensão do método de Gauss-Seidel e é usado para resolver sistemas lineares $Ax=b$. A convergência é garantida se a matriz $A$ for simétrica e definida positiva, ou se for estritamente diagonalmente dominante. O método utiliza um fator de relaxamento $\\omega \\in (0, 2)$ para acelerar a convergência.\n",
        "\n",
        "2. Descrição das entradas e saída: \\\n",
        "As entradas:\n",
        "- `A`: Uma matriz quadrada dos coeficientes.\n",
        "- `b`: Um vetor de constantes do lado direito da equação.\n",
        "- `x_init`: Uma estimativa inicial para o vetor solução 'x'.\n",
        "- `omega`: O fator de relaxamento $\\omega$.\n",
        "- `max_iter`: O número máximo de iterações permitidas.\n",
        "- `tolerancia`: O critério de parada, baseado na norma da diferença entre as iterações.\n",
        "\n",
        "A saída é um vetor com os valores aproximados das incógnitas.\n",
        "\n",
        "3. Descrição da experiência de funcionamento: \n",
        "\n",
        "Este método pode não convergir ou falhar nas seguintes situações:\n",
        "\n",
        " - Matriz não atende aos critérios de convergência: Se a matriz A não for estritamente diagonalmente dominante ou não for simétrica e definida positiva, a convergência não é garantida para qualquer $\\omega$.\n",
        " \n",
        " - Escolha inadequada de $\\omega$: A convergência do método é sensível à escolha do fator de relaxamento $\\omega$. Se $\\omega$ estiver fora do intervalo $(0, 2)$, o método irá divergir. A escolha de um $\\omega$ ótimo, que é um problema não trivial, é crucial para a eficiência do método.\n",
        "\n",
        "\n",
        "## Qualidades / Vantagens do Método SOR\n",
        "\n",
        "- Simples implementação – o algoritmo é direto e fácil de programar.\n",
        "\n",
        "- Baixo consumo de memória – só requer armazenar $ A, b$ e $x $\n",
        "\n",
        "- Bom desempenho em matrizes grandes e esparsas, comuns em problemas de EDPs discretizadas.\n",
        "\n",
        "- Flexibilidade – ajustando $(𝜔)$ pode convergir mais rápido que Gauss-Seidel e Jacobi.\n",
        "\n",
        "- Método iterativo – útil quando métodos diretos (como eliminação de Gauss) são muito caros.\n",
        "\n",
        "- Integração com multigrid – funciona bem como suavizador em algoritmos multigrid\n",
        "\n",
        "## Possiveis Problemas do SOR:\n",
        "\n",
        "- Divergência – se o fator de relaxação $(𝜔)$ for mal escolhido, o método pode não convergir.\n",
        "\n",
        "- Convergência lenta – mesmo quando funciona, pode ser mais devagar que métodos modernos (ex.: Gradiente Conjugado).\n",
        "\n",
        "- Sensibilidade ao parâmetro $(𝜔)$ valores inadequados atrasam ou impedem a convergência.\n",
        "\n",
        "- Zeros na diagonal da matriz – inviabilizam a aplicação direta (divisão por zero).\n",
        "\n",
        "- Pouca paralelização – depende de atualizações sequenciais, difícil de acelerar em arquiteturas paralelas.\n",
        "\n",
        "- Depende da estrutura da matriz – o desempenho ideal ocorre em matrizes simétricas positivas definidas ou diagonalmente dominantes\n",
        "\n"
      ]
    },
    {
      "cell_type": "markdown",
      "metadata": {
        "id": "PHAx1u9bt5qK"
      },
      "source": [
        "Referências:\n",
        "\n",
        "- Hadjidimos, A. (2000). Successive overrelaxation (SOR) and related methods. *Journal of Computational and Applied Mathematics*, *123*(1–2), 177-199. https://doi.org/10.1016/S0377-0427(00)00403-9"
      ]
    }
  ],
  "metadata": {
    "colab": {
      "provenance": []
    },
    "kernelspec": {
      "display_name": "Python 3",
      "name": "python3"
    },
    "language_info": {
      "codemirror_mode": {
        "name": "ipython",
        "version": 3
      },
      "file_extension": ".py",
      "mimetype": "text/x-python",
      "name": "python",
      "nbconvert_exporter": "python",
      "pygments_lexer": "ipython3",
      "version": "3.11.9"
    }
  },
  "nbformat": 4,
  "nbformat_minor": 0
}
