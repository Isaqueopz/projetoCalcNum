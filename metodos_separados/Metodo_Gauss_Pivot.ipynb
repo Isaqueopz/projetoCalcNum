{
  "nbformat": 4,
  "nbformat_minor": 0,
  "metadata": {
    "colab": {
      "provenance": []
    },
    "kernelspec": {
      "name": "python3",
      "display_name": "Python 3"
    },
    "language_info": {
      "name": "python"
    }
  },
  "cells": [
    {
      "cell_type": "markdown",
      "source": [
        " # Métodos Numéricos para Sistemas Lineares -  ***Gauss Pivot***"
      ],
      "metadata": {
        "id": "JrIotEyWfZyB"
      }
    },
    {
      "cell_type": "markdown",
      "source": [
        "por: Anna Caroline, Ane Aille e Ryan Matheus\n",
        "\n"
      ],
      "metadata": {
        "id": "2Dx5LUVTfvfR"
      }
    },
    {
      "cell_type": "markdown",
      "source": [
        "# **Ideia Central**:\n",
        "Considerado uma etapa na resolução do método direto \"Eliminação de Gauss\", este consiste em um procedimento para resolver um sistema de equações lineares transformando a matriz aumentada (coeficientes + termos independentes) em uma forma triangular através da selecão de um elemento apropriado como pivô, geralmente o de maior valor em módulo, para minimizar erros de arredondamento e evitar divisões por zero, aumentando a estabilidade e a precisão do algoritmo.\n",
        "\n",
        "Atribuindo o seguinte sistema ao nosso codigo temos :\n",
        "$$\n",
        "\\begin{align*}\n",
        "2x + 1y - 1z &= 8 \\\\\n",
        "-3x -1y + 2z &= -11 \\\\\n",
        "-2x + 1y + 2z &= -3\n",
        "\\end{align*}\n",
        "$$\n",
        "\n",
        "**Entrada:**\n",
        "$$\n",
        "A = np.array\n",
        "\\begin{bmatrix}\n",
        "2 & 1 & -1 & \\\\\n",
        "-3 & -1 & 2 &  \\\\\n",
        "-2 & 1 & 2 &\n",
        "\\end{bmatrix}, dtype = float\n",
        "$$\n",
        "\n",
        "$$b = np.array([8, -11, -3], dtype=float)$$\n",
        "\n",
        "**Saída:** Solução: [2. 3. -1.].\n",
        "\n",
        "---\n",
        "\n",
        "<br>\n",
        "\n",
        "**Categoria:** Método direto.\n",
        "\n",
        "**Tipo específico:** Eliminação de Gauss com pivoteamento parcial.\n",
        "\n",
        "**Equivalência:** Fatoração\n",
        "𝑃𝐴 = 𝐿𝑈 (mas feita de forma “implícita”).\n",
        "\n",
        "<br>\n",
        "\n",
        "---\n",
        "\n",
        "<br>\n",
        "\n",
        "**Possiveis Problemas e Qualidades:**\n",
        "\n",
        "\n",
        "* O método falha se a matriz for singular ou mal-condicionada.\n",
        "\n",
        "* É considerado eficiente e robusto para sistemas pequenos/médios (𝑛 ≤ 1000)\n",
        "\n",
        "* Para sistemas muito grandes ou esparsos, métodos iterativos são mais eficientes.\n",
        "\n",
        "<br>\n",
        "\n",
        "---\n",
        "\n",
        "<BR>\n",
        "\n",
        "### **Referências:**<br>\n",
        "\n",
        "IAs utilizadas: Blackbox e ChatGPT<BR>\n",
        "\n",
        "<br>Refs:\n",
        "* 3.3: Partial Pivoting — Maths LibreTexts (Jeffrey R. Chasnov); <br>\n",
        "* https://sites.icmc.usp.br/andretta/ensino/aulas/sme0500-1-12/pivotamento.pdf; <br>\n",
        "* https://www.ufrgs.br/reamat/CalculoNumerico/livro-sci/sdsl-sistemas_triangulares.html\n",
        "\n",
        "\n",
        "<br>\n",
        "\n",
        "---"
      ],
      "metadata": {
        "id": "enfmX7CzggkM"
      }
    },
    {
      "cell_type": "code",
      "source": [
        "import numpy as np\n",
        "\n",
        "def gauss_pivoteamento(A, b):\n",
        "    \"\"\"\n",
        "    Resolve o sistema A x = b usando eliminação de Gauss\n",
        "    com pivoteamento parcial.\n",
        "\n",
        "    Parâmetros\n",
        "    ----------\n",
        "    A : array 2D (matriz quadrada de coeficientes)\n",
        "    b : array 1D (vetor de termos independentes)\n",
        "\n",
        "    Retorno\n",
        "    -------\n",
        "    x : array 1D (solução)\n",
        "    \"\"\"\n",
        "    # Copiamos para não alterar os argumentos originais\n",
        "    A = A.astype(float).copy()\n",
        "    b = b.astype(float).copy()\n",
        "    n = len(b)\n",
        "\n",
        "    # Fase de eliminação\n",
        "    for k in range(n-1): #transforma em triangular superior pois fica muito mais simples resolver por substituição regressiva\n",
        "\n",
        "        # === Pivoteamento parcial ===\n",
        "        # Encontra a linha com o maior valor absoluto na coluna k\n",
        "        p = np.argmax(np.abs(A[k:, k])) + k\n",
        "        if A[p, k] == 0:\n",
        "            raise ValueError(\"Matriz singular: pivô nulo encontrado.\")\n",
        "\n",
        "        # Troca de linhas se necessário\n",
        "        if p != k:\n",
        "            A[[k, p]] = A[[p, k]]\n",
        "            b[[k, p]] = b[[p, k]]\n",
        "\n",
        "        # Eliminação\n",
        "        for i in range(k+1, n):\n",
        "            fator = A[i, k] / A[k, k]\n",
        "            A[i, k:] -= fator * A[k, k:]\n",
        "            b[i] -= fator * b[k]\n",
        "\n",
        "    # Substituição regressiva\n",
        "    x = np.zeros(n)\n",
        "    for i in range(n-1, -1, -1):\n",
        "        x[i] = (b[i] - np.dot(A[i, i+1:], x[i+1:])) / A[i, i]\n",
        "\n",
        "    return x\n",
        "\n",
        "\n",
        "# ==== Exemplo de uso ====\n",
        "if __name__ == \"__main__\":\n",
        "    # Sistema:\n",
        "    #  2x +  y -  z =  8\n",
        "    # -3x -  y + 2z = -11\n",
        "    # -2x +  y + 2z = -3\n",
        "\n",
        "    A = np.array([[ 2,  1, -1],\n",
        "                  [-3, -1,  2],\n",
        "                  [-2,  1,  2]], dtype=float)\n",
        "    b = np.array([8, -11, -3], dtype=float)\n",
        "\n",
        "    solucao = gauss_pivoteamento(A, b)\n",
        "    print(\"Solução:\", solucao)\n"
      ],
      "metadata": {
        "id": "vLw-YxSEpeyB",
        "colab": {
          "base_uri": "https://localhost:8080/"
        },
        "outputId": "89401ece-a83e-4ec1-9001-50d78d3fe2a4"
      },
      "execution_count": null,
      "outputs": [
        {
          "output_type": "stream",
          "name": "stdout",
          "text": [
            "Solução: [ 2.  3. -1.]\n"
          ]
        }
      ]
    }
  ]
}